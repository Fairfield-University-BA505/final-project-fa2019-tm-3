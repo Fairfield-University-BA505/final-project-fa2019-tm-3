{
 "cells": [
  {
   "cell_type": "markdown",
   "metadata": {},
   "source": [
    "**Prompt: Prepare a short (5-minute verbal) proposal for your project that covers i) data source; ii) research questions; iii) anticipated challenges; and iv) what results you expect to present on the final day of class.**"
   ]
  },
  {
   "cell_type": "markdown",
   "metadata": {},
   "source": [
    "**Data Source**: 'Young People Survery' from Kaggle  https://www.kaggle.com/miroslavsabo/young-people-survey # try1\n",
    "\n",
    "**Research Questions**\n",
    "Overall question: Does the type of music a participant listens to determine other characteristics about them?\n",
    "--All participants were of Slovakian nationality, aged between 15-30\n",
    "--observe only participants with a desire to listen to music (score of 4 and 5--extend to 3-5 if necessary)\n",
    "--characteristics to observe: demograpics, personality traits, health habits, hobbies, movie preferences\n",
    "\n",
    "Focusing on the UK Market---demographics, music/ movie preferences, spendign habits. \n",
    "1. **Is there a connection between demographics and listening to certain music? (3)**\n",
    "    ---age, gender, education, living enviroment, music \n",
    "    ---narrow music generes: Spotify lists Pop, EDM, HipHop, Latin as the most popular generes.\n",
    "             https://www.displayr.com/most-popular-music/\n",
    "        from data: Pop, Rock, HipHop/Rap, Latin, Techno/Trance\n",
    "    ---bar graph/ scatter plot\n",
    "    \n",
    "2. What kind of personality traits/hobbies do people who listen to certain generes have?--not include\n",
    "\n",
    "3. **Is there a connection between music and movie preferences?**\n",
    "\n",
    "    --- UK info on most popular moves: Action, Anamation, SciFi, Drama, Comedy\n",
    "             https://www.statista.com/statistics/296656/film-genres-ranked-by-box-office-gross-in-the-uk/\n",
    "    ---from data: Action movies, Animated, SciFi, Romantic, Comedy\n",
    "    ---from data: Pop, Rock, HipHop/Rap, Latin, Techno/Trance\n",
    "    ---bar graph/ scatter plot\n",
    "       \n",
    "    \n",
    "4. Given past participant responses, can we predict a future participants response?--not include\n",
    "\n",
    "5. Is there a way to identify if people are 'cheating/lying' on their questionare?---not include\n",
    "\n",
    "6. **Does music taste effect spending/saving habits? What do people spend their money on?**\n",
    "    ---from data: partying/socializing, go to large shopping centers, gadgets, save all the money you            can, spending on looks\n",
    "    ---from data: Pop, Rock, HipHop/Rap, Latin, Techno/Trance\n",
    "\n",
    "\n",
    "**Anticipated Challenges**\n",
    "1. Combing through the data-- data is coded through 1-5 system\n",
    "2. Finding correlations with so much data.\n",
    "3. Research question #5--helpful to determine to detect future issues with surveys\n",
    "4. Determining the best way to represent/display these outcomes\n",
    "\n",
    "\n",
    "\n",
    "**Results Expected to Present**\n",
    "We expect that the type of music a person listens to will explain more about them. While we expect to see certain patters of behavior, such as a correlation between a person's movie preference and preferred genre of music, we also anticipate to come across some surprises that may not fit the stereotypical ideals. \n",
    "\n"
   ]
  },
  {
   "cell_type": "code",
   "execution_count": null,
   "metadata": {},
   "outputs": [],
   "source": []
  }
 ],
 "metadata": {
  "kernelspec": {
   "display_name": "Python 3",
   "language": "python",
   "name": "python3"
  },
  "language_info": {
   "codemirror_mode": {
    "name": "ipython",
    "version": 3
   },
   "file_extension": ".py",
   "mimetype": "text/x-python",
   "name": "python",
   "nbconvert_exporter": "python",
   "pygments_lexer": "ipython3",
   "version": "3.6.7"
  }
 },
 "nbformat": 4,
 "nbformat_minor": 2
}
